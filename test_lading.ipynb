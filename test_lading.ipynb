{
 "cells": [
  {
   "cell_type": "code",
   "execution_count": 40,
   "metadata": {},
   "outputs": [
    {
     "name": "stdout",
     "output_type": "stream",
     "text": [
      "           Fortum   Mer  BKKLyse  CircleK\n",
      "kr_kWh          5  3.75     3.65     4.99\n",
      "kr_min          0  1.25     1.25     0.00\n",
      "kWh ladet      50   NaN      NaN      NaN\n",
      "min ladet       2   NaN      NaN      NaN\n"
     ]
    }
   ],
   "source": [
    "import pandas as pd\n",
    "\n",
    "lynlading_Fortum =     {\n",
    "        \"Fortum0\":       {\"kr_kWh\": 5,       \"kr_min\": 0,        \"kWh ladet\": 50,        \"min ladet\": 2},\n",
    "        \"Fortum1\":       {\"kr_kWh\": 5,       \"kr_min\": 0,        \"kWh ladet\": 100,        \"min ladet\": 2},\n",
    "        \"Fortum2\":       {\"kr_kWh\": 5,       \"kr_min\": 0,        \"kWh ladet\": 150,        \"min ladet\": 2},\n",
    "        \"Fortum3\":       {\"kr_kWh\": 5,       \"kr_min\": 0,        \"kWh ladet\": 200,        \"min ladet\": 2},\n",
    "        \"Fortum4\":       {\"kr_kWh\": 5,       \"kr_min\": 0,        \"kWh ladet\": 250,        \"min ladet\": 2},\n",
    "        \"Fortum5\":       {\"kr_kWh\": 5,       \"kr_min\": 0,        \"kWh ladet\": 300,        \"min ladet\": 2},\n",
    "        \"Fortum6\":       {\"kr_kWh\": 5,       \"kr_min\": 0,        \"kWh ladet\": 350,        \"min ladet\": 2},\n",
    "        \"Fortum7\":       {\"kr_kWh\": 5,       \"kr_min\": 0,        \"kWh ladet\": 400,        \"min ladet\": 2},\n",
    "        \"Fortum8\":       {\"kr_kWh\": 5,       \"kr_min\": 0,        \"kWh ladet\": 500,        \"min ladet\": 2},\n",
    "        \"Fortum9\":       {\"kr_kWh\": 5,       \"kr_min\": 0,        \"kWh ladet\": 600,        \"min ladet\": 2},\n",
    "        \"Fortum10\":       {\"kr_kWh\": 5,       \"kr_min\": 0,        \"kWh ladet\": 800,        \"min ladet\": 2}\n",
    "                }\n",
    "\n",
    "kWh_ladet = [50,100,150,200,250,300,400,500,600,700,800,900,1000,1250,1500,1750,2000]\n",
    "ladehastighet = [50,100] \n",
    "minutter_ladet = [2,4,6,8,10,12,14,16,18,20,22,24,26,28,30,32,34,36,38,40,45,50,55,60]\n",
    "\n",
    "\n",
    "df_lynlading_Fortum = pd.DataFrame(lynlading_Fortum)\n",
    "print(df_lynlading_Fortum)\n",
    "\n",
    "\n",
    "\n",
    "\n",
    "\n"
   ]
  },
  {
   "cell_type": "code",
   "execution_count": null,
   "metadata": {},
   "outputs": [],
   "source": []
  }
 ],
 "metadata": {
  "interpreter": {
   "hash": "aee8b7b246df8f9039afb4144a1f6fd8d2ca17a180786b69acc140d282b71a49"
  },
  "kernelspec": {
   "display_name": "Python 3.9.7 64-bit",
   "name": "python3"
  },
  "language_info": {
   "codemirror_mode": {
    "name": "ipython",
    "version": 3
   },
   "file_extension": ".py",
   "mimetype": "text/x-python",
   "name": "python",
   "nbconvert_exporter": "python",
   "pygments_lexer": "ipython3",
   "version": "3.9.7"
  },
  "orig_nbformat": 4
 },
 "nbformat": 4,
 "nbformat_minor": 2
}
